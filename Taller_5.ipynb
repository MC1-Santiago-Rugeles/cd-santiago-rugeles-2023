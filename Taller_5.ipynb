{
  "nbformat": 4,
  "nbformat_minor": 0,
  "metadata": {
    "colab": {
      "provenance": [],
      "authorship_tag": "ABX9TyPQQRglRcBA0h8+SLZyIhJ2",
      "include_colab_link": true
    },
    "kernelspec": {
      "name": "python3",
      "display_name": "Python 3"
    },
    "language_info": {
      "name": "python"
    }
  },
  "cells": [
    {
      "cell_type": "markdown",
      "metadata": {
        "id": "view-in-github",
        "colab_type": "text"
      },
      "source": [
        "<a href=\"https://colab.research.google.com/github/Rugeles13/cd-santiago-rugeles-2023/blob/main/Taller_5.ipynb\" target=\"_parent\"><img src=\"https://colab.research.google.com/assets/colab-badge.svg\" alt=\"Open In Colab\"/></a>"
      ]
    },
    {
      "cell_type": "code",
      "source": [
        "import math\n",
        "\n",
        "area_cuadrado = 1\n",
        "puntos = 1000000\n",
        "p_lado = int(math.sqrt(puntos))\n",
        "separacion = 1 / (p_lado - 1)\n",
        "contador = 0\n",
        "\n",
        "for i in range(p_lado):\n",
        "    x = i * separacion\n",
        "    for j in range(p_lado):\n",
        "        y = j * separacion\n",
        "        distancia_al_origen = math.sqrt(x**2 + y**2)\n",
        "        if distancia_al_origen <= 1:\n",
        "            contador += 1\n",
        "\n",
        "print(f\"Total de puntos dentro de una distancia de 1 o menos: {contador}\")\n",
        "pi= 4*(contador/puntos)\n",
        "print(pi)\n"
      ],
      "metadata": {
        "colab": {
          "base_uri": "https://localhost:8080/"
        },
        "id": "KySQtFInRKg_",
        "outputId": "a2bdeb7e-a5a1-4d96-9596-23171f7335d7"
      },
      "execution_count": 22,
      "outputs": [
        {
          "output_type": "stream",
          "name": "stdout",
          "text": [
            "Total de puntos dentro de una distancia de 1 o menos: 784789\n",
            "3.139156\n"
          ]
        }
      ]
    },
    {
      "cell_type": "code",
      "source": [
        "import random\n",
        "import math\n",
        "\n",
        "\n",
        "area_cuadrado = 1\n",
        "puntos = 1000000\n",
        "contador = 0\n",
        "\n",
        "for _ in range(puntos):\n",
        "    x = random.uniform(0, 1)\n",
        "    y = random.uniform(0, 1)\n",
        "    distancia_al_origen = math.sqrt(x**2 + y**2)\n",
        "    if distancia_al_origen < 1:\n",
        "        contador += 1\n",
        "\n",
        "print(f\"Total de puntos dentro de una distancia de 1 o menos: {contador}\")\n",
        "pi= 4*(contador/puntos)\n",
        "print(pi)\n"
      ],
      "metadata": {
        "colab": {
          "base_uri": "https://localhost:8080/"
        },
        "id": "AecH956aTSlB",
        "outputId": "19c89828-a489-4a53-ddaa-a4ae8a04ef47"
      },
      "execution_count": 28,
      "outputs": [
        {
          "output_type": "stream",
          "name": "stdout",
          "text": [
            "Total de puntos dentro de una distancia de 1 o menos: 785511\n",
            "3.142044\n"
          ]
        }
      ]
    }
  ]
}